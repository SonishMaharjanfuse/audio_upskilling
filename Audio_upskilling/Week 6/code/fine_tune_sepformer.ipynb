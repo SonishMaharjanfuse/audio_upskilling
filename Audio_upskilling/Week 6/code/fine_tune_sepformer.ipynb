{
  "cells": [
    {
      "cell_type": "code",
      "execution_count": null,
      "metadata": {
        "id": "ehP6gHJwp0UP"
      },
      "outputs": [],
      "source": [
        "%%capture\n",
        "# Local installation\n",
        "!git clone https://github.com/speechbrain/speechbrain/\n",
        "%cd /content/speechbrain/\n",
        "!pip install -r requirements.txt\n",
        "!pip install -e ."
      ]
    },
    {
      "cell_type": "code",
      "execution_count": null,
      "metadata": {
        "id": "UAbAgJVkqL6p"
      },
      "outputs": [],
      "source": [
        "%%capture\n",
        "!pip install speechbrain"
      ]
    },
    {
      "cell_type": "code",
      "execution_count": null,
      "metadata": {
        "id": "FfqCRBLmqZLO"
      },
      "outputs": [],
      "source": [
        "from speechbrain.pretrained import SepformerSeparation\n",
        "separator = SepformerSeparation.from_hparams(source=\"speechbrain/sepformer-wsj02mix\", savedir=\"./pretrained_sepformer\")"
      ]
    },
    {
      "cell_type": "code",
      "execution_count": null,
      "metadata": {
        "id": "-rTwfMWcqZtR"
      },
      "outputs": [],
      "source": [
        "separator.mods.keys()"
      ]
    },
    {
      "cell_type": "code",
      "execution_count": null,
      "metadata": {
        "id": "XoX3P8_mqgjq"
      },
      "outputs": [],
      "source": [
        "separator.mods.encoder"
      ]
    },
    {
      "cell_type": "code",
      "execution_count": null,
      "metadata": {
        "id": "FgmfLDr_qo1R"
      },
      "outputs": [],
      "source": [
        "separator.mods.decoder"
      ]
    },
    {
      "cell_type": "code",
      "execution_count": null,
      "metadata": {
        "id": "xybHc0Fkqs4n"
      },
      "outputs": [],
      "source": [
        "separator.mods.masknet"
      ]
    },
    {
      "cell_type": "code",
      "execution_count": null,
      "metadata": {
        "id": "6IGRZ2y1qvCu"
      },
      "outputs": [],
      "source": [
        "dir(separator.hparams)"
      ]
    },
    {
      "cell_type": "code",
      "execution_count": null,
      "metadata": {
        "id": "LxmA1G9gq4lo"
      },
      "outputs": [],
      "source": [
        "!python /content/speechbrain/recipes/WSJ0Mix/separation/train.py /content/speechbrain/recipes/WSJ0Mix/separation/hparams/sepformer.yaml --data_folder /content/drive/MyDrive/audio_data/10_second_audio/mixture"
      ]
    },
    {
      "cell_type": "code",
      "execution_count": null,
      "metadata": {
        "colab": {
          "base_uri": "https://localhost:8080/"
        },
        "id": "UrtZhFSjqnEm",
        "outputId": "54c4003a-33ee-4918-c340-1832b8ee3874"
      },
      "outputs": [
        {
          "output_type": "stream",
          "name": "stdout",
          "text": [
            "speechbrain.core - Beginning experiment!\n",
            "speechbrain.core - Experiment folder: results/sepformer-custom/1234\n",
            "Creating a csv file for a custom dataset\n",
            "speechbrain.core - Info: auto_mix_prec arg from hparam file is used\n",
            "speechbrain.core - Info: noprogressbar arg from hparam file is used\n",
            "speechbrain.core - Exception:\n",
            "Traceback (most recent call last):\n",
            "  File \"/content/drive/MyDrive/speechbrain/recipes/WSJ0Mix/separation/train.py\", line 619, in <module>\n",
            "    separator = Separation(\n",
            "  File \"/usr/local/lib/python3.10/dist-packages/speechbrain/core.py\", line 554, in __init__\n",
            "    torch.cuda.set_device(int(self.device[-1]))\n",
            "  File \"/usr/local/lib/python3.10/dist-packages/torch/cuda/__init__.py\", line 350, in set_device\n",
            "    torch._C._cuda_setDevice(device)\n",
            "  File \"/usr/local/lib/python3.10/dist-packages/torch/cuda/__init__.py\", line 247, in _lazy_init\n",
            "    torch._C._cuda_init()\n",
            "RuntimeError: Found no NVIDIA driver on your system. Please check that you have an NVIDIA GPU and installed a driver from http://www.nvidia.com/Download/index.aspx\n"
          ]
        }
      ],
      "source": [
        "# cd  recipes/WHAMandWHAMR/separation\n",
        "# %cd /content/drive/MyDrive/speechbrain/\n",
        "! pip install mir_eval\n",
        "\n",
        "!python /content/drive/MyDrive/speechbrain/recipes/WSJ0Mix/separation/train.py \\\n",
        "/content/drive/MyDrive/speechbrain/recipes/WSJ0Mix/separation/hparams/sepformer-customdataset.yaml \\\n",
        "--data_folder=/content/drive/MyDrive/audio_data/data_for_sepformer\n",
        "\n"
      ]
    },
    {
      "cell_type": "code",
      "execution_count": null,
      "metadata": {
        "id": "L_aAe702O47x"
      },
      "outputs": [],
      "source": [
        "!rm -r '/content/drive/MyDrive/speechbrain/results/sepformer-custom/1234/save/CKPT+2023-10-17+08-07-40+00' '/content/drive/MyDrive/speechbrain/results/sepformer-custom/1234/save/audio_results'"
      ]
    },
    {
      "cell_type": "code",
      "source": [
        "cd .."
      ],
      "metadata": {
        "colab": {
          "base_uri": "https://localhost:8080/"
        },
        "id": "12D5ilfBkgoT",
        "outputId": "2e02d30d-64fe-4aa2-9ec2-db0d492c0e59"
      },
      "execution_count": null,
      "outputs": [
        {
          "output_type": "stream",
          "name": "stdout",
          "text": [
            "/content\n"
          ]
        }
      ]
    }
  ],
  "metadata": {
    "accelerator": "GPU",
    "colab": {
      "provenance": [],
      "gpuType": "T4"
    },
    "kernelspec": {
      "display_name": "Python 3",
      "name": "python3"
    },
    "language_info": {
      "name": "python"
    }
  },
  "nbformat": 4,
  "nbformat_minor": 0
}