{
  "nbformat": 4,
  "nbformat_minor": 0,
  "metadata": {
    "colab": {
      "provenance": []
    },
    "kernelspec": {
      "name": "python3",
      "display_name": "Python 3"
    },
    "language_info": {
      "name": "python"
    }
  },
  "cells": [
    {
      "cell_type": "code",
      "source": [
        "!pip install pydub ffmpeg"
      ],
      "metadata": {
        "colab": {
          "base_uri": "https://localhost:8080/"
        },
        "id": "S5tXBzbrJHWk",
        "outputId": "fd430498-88fc-432b-ca6a-df3412e6e499"
      },
      "execution_count": null,
      "outputs": [
        {
          "output_type": "stream",
          "name": "stdout",
          "text": [
            "Collecting pydub\n",
            "  Downloading pydub-0.25.1-py2.py3-none-any.whl (32 kB)\n",
            "Collecting ffmpeg\n",
            "  Downloading ffmpeg-1.4.tar.gz (5.1 kB)\n",
            "  Preparing metadata (setup.py) ... \u001b[?25l\u001b[?25hdone\n",
            "Building wheels for collected packages: ffmpeg\n",
            "  Building wheel for ffmpeg (setup.py) ... \u001b[?25l\u001b[?25hdone\n",
            "  Created wheel for ffmpeg: filename=ffmpeg-1.4-py3-none-any.whl size=6082 sha256=4cfb4e7d4e9ca84ccf42bd2e1cd68f28b7f62a75a576e57fd8c74a5654b39cea\n",
            "  Stored in directory: /root/.cache/pip/wheels/8e/7a/69/cd6aeb83b126a7f04cbe7c9d929028dc52a6e7d525ff56003a\n",
            "Successfully built ffmpeg\n",
            "Installing collected packages: pydub, ffmpeg\n",
            "Successfully installed ffmpeg-1.4 pydub-0.25.1\n"
          ]
        }
      ]
    },
    {
      "cell_type": "code",
      "execution_count": null,
      "metadata": {
        "id": "-oNeeHGpHFqi",
        "colab": {
          "base_uri": "https://localhost:8080/"
        },
        "outputId": "56fca83b-8061-45ac-96d4-35d5f51f589e"
      },
      "outputs": [
        {
          "output_type": "stream",
          "name": "stdout",
          "text": [
            "305\n"
          ]
        }
      ],
      "source": [
        "from pydub import AudioSegment\n",
        "\n",
        "# Load the 45-minute audio file\n",
        "audio = AudioSegment.from_file(\"/content/drive/MyDrive/audio_data/OpenAI CEO on Artificial Intelligence Changing Society/deepak.mp3\", format=\"mp3\")\n",
        "\n",
        "# Define the duration of each chunk in milliseconds (10 seconds in this case)\n",
        "chunk_duration = 10 * 1000  # 10 seconds\n",
        "\n",
        "# Calculate the total number of chunks\n",
        "total_chunks = len(audio) // chunk_duration\n",
        "\n",
        "# Split the audio into chunks\n",
        "for i in range(total_chunks):\n",
        "    start_time = i * chunk_duration\n",
        "    end_time = (i + 1) * chunk_duration\n",
        "    chunk = audio[start_time:end_time]\n",
        "\n",
        "    # Save the chunk to a file\n",
        "    # if i < 240:\n",
        "    chunk.export(f\"/content/drive/MyDrive/audio_data/data/source2/{i+89}.wav\", format=\"wav\")\n",
        "\n",
        "    # elif i > 240 and i<260:\n",
        "    #     chunk.export(f\"/content/drive/MyDrive/audio_data/10_second_audio/mixture/test/source2/{i+1}.wav\", format=\"wav\")\n",
        "    # else:\n",
        "    #     chunk.export(f\"/content/drive/MyDrive/audio_data/10_second_audio/mixture/valid/source2/{i+1}.wav\", format=\"wav\")\n",
        "\n",
        "print(i)\n"
      ]
    },
    {
      "cell_type": "code",
      "source": [
        "import os\n",
        "import random\n",
        "import shutil\n",
        "\n",
        "# Define the source folder\n",
        "source_folder = '/content/drive/MyDrive/audio_data/data/source2'\n",
        "\n",
        "# Define the destination folders\n",
        "destination_folder_70 = '/content/drive/MyDrive/audio_data/data_for_sepformer/train/source2'\n",
        "destination_folder_20 = '/content/drive/MyDrive/audio_data/data_for_sepformer/valid/source2'\n",
        "destination_folder_10 = '/content/drive/MyDrive/audio_data/data_for_sepformer/test/source2'\n",
        "\n",
        "# Set a seed for random operations (replace 42 with any integer)\n",
        "random_seed = 42\n",
        "random.seed(random_seed)\n",
        "\n",
        "# Get a list of all files in the source folder\n",
        "files = os.listdir(source_folder)\n",
        "\n",
        "# Shuffle the list of files\n",
        "random.shuffle(files)\n",
        "\n",
        "# Calculate the number of files for each category\n",
        "total_files = len(files)\n",
        "num_files_70 = int(0.7 * total_files)\n",
        "num_files_20 = int(0.2 * total_files)\n",
        "num_files_10 = total_files - num_files_70 - num_files_20\n",
        "\n",
        "# Define the sets of files for each category\n",
        "files_70 = files[:num_files_70]\n",
        "files_20 = files[num_files_70:num_files_70+num_files_20]\n",
        "files_10 = files[num_files_70+num_files_20:]\n",
        "\n",
        "# Function to move files to a destination folder\n",
        "def move_files(files, destination_folder):\n",
        "    for file_name in files:\n",
        "        source_path = os.path.join(source_folder, file_name)\n",
        "        destination_path = os.path.join(destination_folder, file_name)\n",
        "        shutil.copy(source_path, destination_path)\n",
        "\n",
        "# Move 70% of the files to destination_70_percent folder\n",
        "move_files(files_70, destination_folder_70)\n",
        "\n",
        "# Move 20% of the files to destination_20_percent folder\n",
        "move_files(files_20, destination_folder_20)\n",
        "\n",
        "# Move 10% of the files to destination_10_percent folder\n",
        "move_files(files_10, destination_folder_10)"
      ],
      "metadata": {
        "id": "kXS9dGDdLIbr"
      },
      "execution_count": null,
      "outputs": []
    },
    {
      "cell_type": "code",
      "source": [
        "%cd /content/drive/MyDrive/audio_data/data_for_sepformer"
      ],
      "metadata": {
        "colab": {
          "base_uri": "https://localhost:8080/"
        },
        "id": "5QifzRSqVBRe",
        "outputId": "b8597c84-7f96-43d6-875f-8be0b48fde05"
      },
      "execution_count": null,
      "outputs": [
        {
          "output_type": "stream",
          "name": "stdout",
          "text": [
            "/content/drive/MyDrive/audio_data/data_for_sepformer\n"
          ]
        }
      ]
    },
    {
      "cell_type": "code",
      "source": [
        "!mkdir train test valid"
      ],
      "metadata": {
        "id": "aoAzzs3_VBOd"
      },
      "execution_count": null,
      "outputs": []
    },
    {
      "cell_type": "code",
      "source": [
        "!mkdir train/mixture train/source1 train/source2"
      ],
      "metadata": {
        "id": "lOss2Z0QVBKO"
      },
      "execution_count": null,
      "outputs": []
    },
    {
      "cell_type": "code",
      "source": [
        "!rm -r train/mixture train/source1 train/source2"
      ],
      "metadata": {
        "id": "Hw1Q7tFBVBGo"
      },
      "execution_count": null,
      "outputs": []
    },
    {
      "cell_type": "code",
      "source": [
        "pwd"
      ],
      "metadata": {
        "colab": {
          "base_uri": "https://localhost:8080/",
          "height": 35
        },
        "id": "VrkNHuxPcoTD",
        "outputId": "e95342ff-6025-4189-b10c-e064c24bc5a4"
      },
      "execution_count": null,
      "outputs": [
        {
          "output_type": "execute_result",
          "data": {
            "text/plain": [
              "'/content/drive/MyDrive/audio_data/data_for_sepformer'"
            ],
            "application/vnd.google.colaboratory.intrinsic+json": {
              "type": "string"
            }
          },
          "metadata": {},
          "execution_count": 28
        }
      ]
    }
  ]
}