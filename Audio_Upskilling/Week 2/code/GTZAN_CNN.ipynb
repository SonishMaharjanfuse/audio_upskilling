{
 "cells": [
  {
   "cell_type": "code",
   "execution_count": 1,
   "metadata": {
    "colab": {
     "base_uri": "https://localhost:8080/"
    },
    "id": "M8V2TmFDe788",
    "outputId": "6b6ee0bb-33d2-4f48-d362-49759353c308"
   },
   "outputs": [
    {
     "name": "stdout",
     "output_type": "stream",
     "text": [
      "\u001b[2K     \u001b[90m━━━━━━━━━━━━━━━━━━━━━━━━━━━━━━━━━━━━━━━━\u001b[0m \u001b[32m18.5/18.5 MB\u001b[0m \u001b[31m33.0 MB/s\u001b[0m eta \u001b[36m0:00:00\u001b[0m\n",
      "\u001b[2K     \u001b[90m━━━━━━━━━━━━━━━━━━━━━━━━━━━━━━━━━━━━━━━━\u001b[0m \u001b[32m83.5/83.5 kB\u001b[0m \u001b[31m8.2 MB/s\u001b[0m eta \u001b[36m0:00:00\u001b[0m\n",
      "\u001b[?25h  Preparing metadata (setup.py) ... \u001b[?25l\u001b[?25hdone\n",
      "\u001b[2K     \u001b[90m━━━━━━━━━━━━━━━━━━━━━━━━━━━━━━━━━━━━━━\u001b[0m \u001b[32m189.5/189.5 kB\u001b[0m \u001b[31m17.9 MB/s\u001b[0m eta \u001b[36m0:00:00\u001b[0m\n",
      "\u001b[2K     \u001b[90m━━━━━━━━━━━━━━━━━━━━━━━━━━━━━━━━━━━━━━\u001b[0m \u001b[32m226.0/226.0 kB\u001b[0m \u001b[31m19.2 MB/s\u001b[0m eta \u001b[36m0:00:00\u001b[0m\n",
      "\u001b[2K     \u001b[90m━━━━━━━━━━━━━━━━━━━━━━━━━━━━━━━━━━━━━━\u001b[0m \u001b[32m148.1/148.1 kB\u001b[0m \u001b[31m14.7 MB/s\u001b[0m eta \u001b[36m0:00:00\u001b[0m\n",
      "\u001b[2K     \u001b[90m━━━━━━━━━━━━━━━━━━━━━━━━━━━━━━━━━━━━━━━━\u001b[0m \u001b[32m80.2/80.2 kB\u001b[0m \u001b[31m7.5 MB/s\u001b[0m eta \u001b[36m0:00:00\u001b[0m\n",
      "\u001b[2K     \u001b[90m━━━━━━━━━━━━━━━━━━━━━━━━━━━━━━━━━━━━━━━━\u001b[0m \u001b[32m78.7/78.7 kB\u001b[0m \u001b[31m7.7 MB/s\u001b[0m eta \u001b[36m0:00:00\u001b[0m\n",
      "\u001b[2K     \u001b[90m━━━━━━━━━━━━━━━━━━━━━━━━━━━━━━━━━━━━━━\u001b[0m \u001b[32m143.1/143.1 kB\u001b[0m \u001b[31m14.2 MB/s\u001b[0m eta \u001b[36m0:00:00\u001b[0m\n",
      "\u001b[2K     \u001b[90m━━━━━━━━━━━━━━━━━━━━━━━━━━━━━━━━━━━━━━━━\u001b[0m \u001b[32m62.7/62.7 kB\u001b[0m \u001b[31m6.4 MB/s\u001b[0m eta \u001b[36m0:00:00\u001b[0m\n",
      "\u001b[?25h  Building wheel for databricks-cli (setup.py) ... \u001b[?25l\u001b[?25hdone\n",
      "\u001b[2K     \u001b[90m━━━━━━━━━━━━━━━━━━━━━━━━━━━━━━━━━━━━━━━\u001b[0m \u001b[32m698.7/698.7 kB\u001b[0m \u001b[31m5.6 MB/s\u001b[0m eta \u001b[36m0:00:00\u001b[0m\n",
      "\u001b[?25h  Preparing metadata (setup.py) ... \u001b[?25l\u001b[?25hdone\n",
      "  Building wheel for pyngrok (setup.py) ... \u001b[?25l\u001b[?25hdone\n"
     ]
    }
   ],
   "source": [
    "!pip install mlflow --quiet\n",
    "!pip install pyngrok --quiet\n"
   ]
  },
  {
   "cell_type": "code",
   "execution_count": 2,
   "metadata": {
    "colab": {
     "base_uri": "https://localhost:8080/"
    },
    "id": "96bck_z9VZ7V",
    "outputId": "282590d1-86d9-44d0-bbf7-3c01f6b4809b"
   },
   "outputs": [
    {
     "name": "stdout",
     "output_type": "stream",
     "text": [
      "Mounted at /content/drive\n"
     ]
    }
   ],
   "source": [
    "import json\n",
    "import os\n",
    "from getpass import getpass\n",
    "\n",
    "import keras\n",
    "import librosa\n",
    "import matplotlib.pyplot as plt\n",
    "import mlflow\n",
    "import mlflow.sklearn\n",
    "import numpy as np\n",
    "from google.colab import drive\n",
    "from pyngrok import ngrok\n",
    "from sklearn.metrics import accuracy_score, confusion_matrix\n",
    "from sklearn.model_selection import train_test_split\n",
    "\n",
    "drive.mount('/content/drive')"
   ]
  },
  {
   "cell_type": "markdown",
   "metadata": {
    "id": "Ym5FROmoW4OM"
   },
   "source": [
    "# Importing Libraries"
   ]
  },
  {
   "cell_type": "markdown",
   "metadata": {
    "id": "qHEIY0lAU_6G"
   },
   "source": [
    "# Load MLFLOW from drive"
   ]
  },
  {
   "cell_type": "code",
   "execution_count": 4,
   "metadata": {
    "colab": {
     "base_uri": "https://localhost:8080/"
    },
    "id": "mck6RK0gU_6J",
    "outputId": "adcb06b5-f96e-4024-893d-85a2900635fc"
   },
   "outputs": [
    {
     "name": "stdout",
     "output_type": "stream",
     "text": [
      ".   0\t\t\t683428462651664209  models\n",
      "..  637757938191929993\t.ipynb_checkpoints  .trash\n"
     ]
    }
   ],
   "source": [
    "!cp -r /content/drive/MyDrive/GTZAN/mlflow/mlruns .\n",
    "!ls /content/mlruns -a\n",
    "!rm -rf /content/mlruns/.ipynb_checkpoints/"
   ]
  },
  {
   "cell_type": "markdown",
   "metadata": {
    "id": "JvuIi1YMHBMY"
   },
   "source": [
    "# View logs using MLFlow"
   ]
  },
  {
   "cell_type": "code",
   "execution_count": 5,
   "metadata": {
    "colab": {
     "base_uri": "https://localhost:8080/"
    },
    "id": "8am7VIVZ6ZJL",
    "outputId": "dfab921f-4617-4d9d-fc13-02963facdfdd"
   },
   "outputs": [
    {
     "name": "stdout",
     "output_type": "stream",
     "text": [
      "Enter the ngrok authtoken: ··········\n"
     ]
    },
    {
     "name": "stderr",
     "output_type": "stream",
     "text": [
      "WARNING:pyngrok.process.ngrok:t=2023-09-14T10:58:52+0000 lvl=warn msg=\"ngrok config file found at legacy location, move to XDG location\" xdg_path=/root/.config/ngrok/ngrok.yml legacy_path=/root/.ngrok2/ngrok.yml\n"
     ]
    },
    {
     "name": "stdout",
     "output_type": "stream",
     "text": [
      "MLflow Tracking UI: https://e1eb-107-178-208-58.ngrok-free.app\n"
     ]
    }
   ],
   "source": [
    "# Terminate open tunnels if exist\n",
    "ngrok.kill()\n",
    "\n",
    "# Setting the authtoken (optional)\n",
    "# Get your authtoken from https://dashboard.ngrok.com/auth\n",
    "NGROK_AUTH_TOKEN = getpass('Enter the ngrok authtoken: ')\n",
    "ngrok.set_auth_token(NGROK_AUTH_TOKEN)\n",
    "\n",
    "# Open an HTTPs tunnel on port 5000 for http://localhost:5000\n",
    "ngrok_tunnel = ngrok.connect(addr=\"5000\", proto=\"http\", bind_tls=True)\n",
    "print(\"MLflow Tracking UI:\", ngrok_tunnel.public_url)"
   ]
  },
  {
   "cell_type": "code",
   "execution_count": null,
   "metadata": {
    "id": "vNERlxm66ryi"
   },
   "outputs": [],
   "source": [
    "!mlflow ui"
   ]
  },
  {
   "cell_type": "markdown",
   "metadata": {
    "id": "OQJG7a5J3jbB"
   },
   "source": [
    "# Importing data"
   ]
  },
  {
   "cell_type": "code",
   "execution_count": null,
   "metadata": {
    "id": "OX2ZjHLhvZ4a"
   },
   "outputs": [],
   "source": [
    "!gdown https://drive.google.com/uc?id=1P12YAYLOg8T7x7beOkHozaPFsBRTFz5w\n",
    "!unzip GTZAN\\ Dataset\\ -\\ Music\\ Genre\\ Classification.zip"
   ]
  },
  {
   "cell_type": "code",
   "execution_count": null,
   "metadata": {
    "id": "gbPUhaCRvqIJ"
   },
   "outputs": [],
   "source": [
    "mlflow.set_experiment('GTZAN_CNN')"
   ]
  },
  {
   "cell_type": "markdown",
   "metadata": {
    "id": "L29hTMT04CFL"
   },
   "source": [
    "#### Extract the Feature of audio i.e MFCCs and append the data in the dictionary which contain the type of music, MFCCs and the label for the type of music"
   ]
  },
  {
   "cell_type": "code",
   "execution_count": null,
   "metadata": {
    "id": "63Q1_Fyhvv8Z"
   },
   "outputs": [],
   "source": [
    "SAMPLE_RATE = 22050\n",
    "DURATION = 30  # 30SEC\n",
    "SAMPLES_PER_TRACK = SAMPLE_RATE * DURATION"
   ]
  },
  {
   "cell_type": "code",
   "execution_count": null,
   "metadata": {
    "id": "TeSEB7LzvyWZ"
   },
   "outputs": [],
   "source": [
    "def save_mfcc(dataset_path, json_path, n_mfcc=13, n_fft=2048, hop_length=512, num_segments=5):\n",
    "    data = {\n",
    "        \"mapping\": [],\n",
    "        \"mfcc\": [],\n",
    "        \"labels\": []\n",
    "    }\n",
    "\n",
    "    for i, (dirpath, dirname, filenames) in enumerate(os.walk(dataset_path)):\n",
    "        if dirpath is not dataset_path:\n",
    "            dirpath_components = dirpath.split('/')\n",
    "            semantic_label = dirpath_components[-1]\n",
    "            data[\"mapping\"].append(semantic_label)\n",
    "            print(f\"\\n Processing {semantic_label}\")\n",
    "\n",
    "            num_samples_per_segent = int(SAMPLES_PER_TRACK / num_segments)\n",
    "            expected_num_mfcc_vectos_per_segment = np.ceil((num_samples_per_segent / hop_length))\n",
    "\n",
    "            for f in filenames:\n",
    "                file_path = os.path.join(dirpath, f)\n",
    "                signal, sr = librosa.load(file_path, sr=SAMPLE_RATE)\n",
    "\n",
    "                for s in range(num_segments):\n",
    "                    start_sample = num_samples_per_segent * s\n",
    "                    finish_sample = start_sample + num_samples_per_segent\n",
    "\n",
    "                    mfcc = librosa.feature.mfcc(y=signal[start_sample:finish_sample],\n",
    "                                                sr=sr,\n",
    "                                                n_fft=n_fft,\n",
    "                                                n_mfcc=n_mfcc,\n",
    "                                                hop_length=hop_length\n",
    "\n",
    "                                                )\n",
    "                    mfcc = mfcc.T\n",
    "\n",
    "                    if len(mfcc) == expected_num_mfcc_vectos_per_segment:\n",
    "                        data[\"mfcc\"].append(mfcc.tolist())\n",
    "                        data[\"labels\"].append(i - 1)\n",
    "    return data"
   ]
  },
  {
   "cell_type": "code",
   "execution_count": null,
   "metadata": {
    "colab": {
     "base_uri": "https://localhost:8080/"
    },
    "id": "l3hl2DUAvyTv",
    "outputId": "a3845880-ad3c-49ad-eaa3-fa49ad4cd090"
   },
   "outputs": [
    {
     "name": "stdout",
     "output_type": "stream",
     "text": [
      "\n",
      " Processing country\n",
      "\n",
      " Processing classical\n",
      "\n",
      " Processing metal\n",
      "\n",
      " Processing reggae\n",
      "\n",
      " Processing jazz\n",
      "\n",
      " Processing pop\n",
      "\n",
      " Processing hiphop\n",
      "\n",
      " Processing rock\n",
      "\n",
      " Processing blues\n",
      "\n",
      " Processing disco\n"
     ]
    }
   ],
   "source": [
    "DATASET_PATH = \"/content/Data/genres_original\"\n",
    "JSON_PATH = \"data.json\"\n",
    "data = save_mfcc(DATASET_PATH, JSON_PATH, num_segments=10)"
   ]
  },
  {
   "cell_type": "code",
   "execution_count": null,
   "metadata": {
    "id": "qCGfxcT3vyQv"
   },
   "outputs": [],
   "source": [
    "JSON_PATH = \"data.json\"\n",
    "with open(JSON_PATH, \"w\") as fp:\n",
    "    json.dump(data, fp, indent=4)"
   ]
  },
  {
   "cell_type": "code",
   "execution_count": 7,
   "metadata": {
    "id": "kdDsEJddv6sn"
   },
   "outputs": [],
   "source": [
    "def load_data(data_path):\n",
    "    \"\"\"Loads training dataset from json file.\n",
    "\n",
    "        :param data_path (str): Path to json file containing data\n",
    "        :return X (ndarray): Inputs\n",
    "        :return y (ndarray): Targets\n",
    "    \"\"\"\n",
    "\n",
    "    with open(data_path, \"r\") as fp:\n",
    "        data = json.load(fp)\n",
    "\n",
    "    # convert lists to numpy arrays\n",
    "    X = np.array(data[\"mfcc\"])\n",
    "    y = np.array(data[\"labels\"])\n",
    "\n",
    "    print(\"Data succesfully loaded!\")\n",
    "\n",
    "    return X, y"
   ]
  },
  {
   "cell_type": "code",
   "execution_count": 8,
   "metadata": {
    "id": "UPozpbvRv7rR"
   },
   "outputs": [],
   "source": [
    "def plot_history(history):\n",
    "    \"\"\"Plots accuracy/loss for training/validation set as a function of the epochs\n",
    "\n",
    "        :param history: Training history of model\n",
    "        :return:\n",
    "    \"\"\"\n",
    "\n",
    "    fig, axs = plt.subplots(2)\n",
    "\n",
    "    # create accuracy sublpot\n",
    "    axs[0].plot(history.history[\"accuracy\"], label=\"train accuracy\")\n",
    "    axs[0].plot(history.history[\"val_accuracy\"], label=\"test accuracy\")\n",
    "    axs[0].set_ylabel(\"Accuracy\")\n",
    "    axs[0].legend(loc=\"lower right\")\n",
    "    axs[0].set_title(\"Accuracy eval\")\n",
    "\n",
    "    # create error sublpot\n",
    "    axs[1].plot(history.history[\"loss\"], label=\"train error\")\n",
    "    axs[1].plot(history.history[\"val_loss\"], label=\"test error\")\n",
    "    axs[1].set_ylabel(\"Error\")\n",
    "    axs[1].set_xlabel(\"Epoch\")\n",
    "    axs[1].legend(loc=\"upper right\")\n",
    "    axs[1].set_title(\"Error eval\")\n",
    "\n",
    "    plt.tight_layout()\n",
    "    plt.show()"
   ]
  },
  {
   "cell_type": "markdown",
   "metadata": {
    "id": "1Fght8Ja4IbW"
   },
   "source": [
    "# Dataset split for train, test, and validation."
   ]
  },
  {
   "cell_type": "code",
   "execution_count": 9,
   "metadata": {
    "id": "0YYcxuxPv7op"
   },
   "outputs": [],
   "source": [
    "def prepare_dataset(test_size, validation_size):\n",
    "    # load data\n",
    "    X, y = load_data(\"/content/drive/MyDrive/GTZAN/data.json\")\n",
    "\n",
    "    # create train/test split\n",
    "    X_train, X_test, y_train, y_test = train_test_split(\n",
    "        X,\n",
    "        y,\n",
    "        test_size=test_size,\n",
    "        random_state=42,\n",
    "    )\n",
    "\n",
    "    # create train/validation split\n",
    "\n",
    "    X_train, X_validation, y_train, y_validation = train_test_split(\n",
    "        X_train,\n",
    "        y_train,\n",
    "        test_size=validation_size,\n",
    "        random_state=42,\n",
    "    )\n",
    "\n",
    "    # 3d array\n",
    "    X_train = X_train[..., np.newaxis]\n",
    "    X_validation = X_validation[..., np.newaxis]\n",
    "    X_test = X_test[..., np.newaxis]\n",
    "\n",
    "    return X_train, X_validation, X_test, y_train, y_validation, y_test"
   ]
  },
  {
   "cell_type": "markdown",
   "metadata": {
    "id": "1NJa0-sy4QYP"
   },
   "source": [
    "# Build CNN model"
   ]
  },
  {
   "cell_type": "code",
   "execution_count": 10,
   "metadata": {
    "id": "5lD32n8Wv7mO"
   },
   "outputs": [],
   "source": [
    "def build_cnn_model(input_shape):\n",
    "    \"\"\"Generates CNN model\n",
    "\n",
    "    :param input_shape (tuple): Shape of input set\n",
    "    :return model: CNN model\n",
    "    \"\"\"\n",
    "\n",
    "    # build network topology\n",
    "    model = keras.Sequential()\n",
    "\n",
    "    # 1st conv layer\n",
    "    model.add(keras.layers.Conv2D(32, (3, 3), activation='relu', input_shape=input_shape))\n",
    "    model.add(keras.layers.MaxPooling2D((3, 3), strides=(2, 2), padding='same'))\n",
    "    model.add(keras.layers.BatchNormalization())\n",
    "\n",
    "    # 2nd conv layer\n",
    "    model.add(keras.layers.Conv2D(32, (3, 3), activation='relu'))\n",
    "    model.add(keras.layers.MaxPooling2D((3, 3), strides=(2, 2), padding='same'))\n",
    "    model.add(keras.layers.BatchNormalization())\n",
    "\n",
    "    # 3rd conv layer\n",
    "    model.add(keras.layers.Conv2D(32, (2, 2), activation='relu'))\n",
    "    model.add(keras.layers.MaxPooling2D((2, 2), strides=(2, 2), padding='same'))\n",
    "    model.add(keras.layers.BatchNormalization())\n",
    "\n",
    "    # flatten output and feed it into dense layer\n",
    "    model.add(keras.layers.Flatten())\n",
    "    model.add(keras.layers.Dense(64, activation='relu'))\n",
    "    model.add(keras.layers.Dropout(0.3))\n",
    "\n",
    "    # output layer\n",
    "    model.add(keras.layers.Dense(10, activation='softmax'))\n",
    "\n",
    "    return model"
   ]
  },
  {
   "cell_type": "code",
   "execution_count": 11,
   "metadata": {
    "colab": {
     "base_uri": "https://localhost:8080/"
    },
    "id": "OjOjv-MNyQ-3",
    "outputId": "b5a05988-71c4-40f8-a99c-1b3188b1dc82"
   },
   "outputs": [
    {
     "name": "stdout",
     "output_type": "stream",
     "text": [
      "Data succesfully loaded!\n"
     ]
    }
   ],
   "source": [
    "X_train, X_validation, X_test, y_train, y_validation, y_test = prepare_dataset(.20, .2,)"
   ]
  },
  {
   "cell_type": "code",
   "execution_count": 12,
   "metadata": {
    "colab": {
     "base_uri": "https://localhost:8080/"
    },
    "id": "oJcI2f99v7jq",
    "outputId": "bb38428c-431c-4a1e-d6ee-18d385b45943"
   },
   "outputs": [
    {
     "name": "stdout",
     "output_type": "stream",
     "text": [
      "Model: \"sequential\"\n",
      "_________________________________________________________________\n",
      " Layer (type)                Output Shape              Param #   \n",
      "=================================================================\n",
      " conv2d (Conv2D)             (None, 128, 11, 32)       320       \n",
      "                                                                 \n",
      " max_pooling2d (MaxPooling2D  (None, 64, 6, 32)        0         \n",
      " )                                                               \n",
      "                                                                 \n",
      " batch_normalization (BatchN  (None, 64, 6, 32)        128       \n",
      " ormalization)                                                   \n",
      "                                                                 \n",
      " conv2d_1 (Conv2D)           (None, 62, 4, 32)         9248      \n",
      "                                                                 \n",
      " max_pooling2d_1 (MaxPooling  (None, 31, 2, 32)        0         \n",
      " 2D)                                                             \n",
      "                                                                 \n",
      " batch_normalization_1 (Batc  (None, 31, 2, 32)        128       \n",
      " hNormalization)                                                 \n",
      "                                                                 \n",
      " conv2d_2 (Conv2D)           (None, 30, 1, 32)         4128      \n",
      "                                                                 \n",
      " max_pooling2d_2 (MaxPooling  (None, 15, 1, 32)        0         \n",
      " 2D)                                                             \n",
      "                                                                 \n",
      " batch_normalization_2 (Batc  (None, 15, 1, 32)        128       \n",
      " hNormalization)                                                 \n",
      "                                                                 \n",
      " flatten (Flatten)           (None, 480)               0         \n",
      "                                                                 \n",
      " dense (Dense)               (None, 64)                30784     \n",
      "                                                                 \n",
      " dropout (Dropout)           (None, 64)                0         \n",
      "                                                                 \n",
      " dense_1 (Dense)             (None, 10)                650       \n",
      "                                                                 \n",
      "=================================================================\n",
      "Total params: 45,514\n",
      "Trainable params: 45,322\n",
      "Non-trainable params: 192\n",
      "_________________________________________________________________\n"
     ]
    }
   ],
   "source": [
    "input_shape = (X_train.shape[1], X_train.shape[2], X_train.shape[3])\n",
    "cnn_model = build_cnn_model(input_shape)\n",
    "cnn_model.summary()"
   ]
  },
  {
   "cell_type": "code",
   "execution_count": 13,
   "metadata": {
    "id": "CmZEwE4fBeZU"
   },
   "outputs": [],
   "source": [
    "def eval_metrics(y_test, predict_test):\n",
    "    cm = confusion_matrix(y_test, predict_test)\n",
    "    accuracy = accuracy_score(y_test, predict_test)\n",
    "\n",
    "    return cm, accuracy"
   ]
  },
  {
   "cell_type": "code",
   "execution_count": 14,
   "metadata": {
    "id": "o8hYRqrhwTn6"
   },
   "outputs": [],
   "source": [
    "def train_model(lr):\n",
    "    with mlflow.start_run():\n",
    "        optimizer = keras.optimizers.Adam(learning_rate=lr)\n",
    "        cnn_model.compile(\n",
    "            optimizer=optimizer,\n",
    "            loss='sparse_categorical_crossentropy',\n",
    "            metrics=['accuracy']\n",
    "        )\n",
    "        history = cnn_model.fit(\n",
    "            X_train,\n",
    "            y_train,\n",
    "            batch_size=32,\n",
    "            validation_data=(X_validation, y_validation),\n",
    "            epochs=30\n",
    "        )\n",
    "        predict_test = cnn_model.predict(X_test)\n",
    "        prediction_index = np.argmax(predict_test, axis=1)\n",
    "\n",
    "        cm, accuracy = eval_metrics(y_test, prediction_index)\n",
    "\n",
    "        print(f\"\\nconfusion matrix: \\n{cm} \\n accuracy:{accuracy}\")\n",
    "\n",
    "        mlflow.log_param('learning_rate', lr)\n",
    "        mlflow.log_param('batch_size', 32)\n",
    "        mlflow.log_metric('accuracy_score', accuracy)\n",
    "\n",
    "        mlflow.sklearn.log_model(lr, \"cnn_model\")\n",
    "\n",
    "    return history, cnn_model"
   ]
  },
  {
   "cell_type": "code",
   "execution_count": 15,
   "metadata": {
    "colab": {
     "base_uri": "https://localhost:8080/"
    },
    "id": "Wt5cQcGPCIa7",
    "outputId": "e00ccab3-2ee6-42cc-f016-a1a52aca8faf"
   },
   "outputs": [
    {
     "name": "stdout",
     "output_type": "stream",
     "text": [
      "Epoch 1/30\n",
      "200/200 [==============================] - 20s 93ms/step - loss: 2.0282 - accuracy: 0.3250 - val_loss: 1.5645 - val_accuracy: 0.4574\n",
      "Epoch 2/30\n",
      "200/200 [==============================] - 17s 85ms/step - loss: 1.5021 - accuracy: 0.4621 - val_loss: 1.2757 - val_accuracy: 0.5538\n",
      "Epoch 3/30\n",
      "200/200 [==============================] - 16s 78ms/step - loss: 1.3052 - accuracy: 0.5308 - val_loss: 1.1222 - val_accuracy: 0.6114\n",
      "Epoch 4/30\n",
      "200/200 [==============================] - 16s 80ms/step - loss: 1.2007 - accuracy: 0.5767 - val_loss: 1.1072 - val_accuracy: 0.6039\n",
      "Epoch 5/30\n",
      "200/200 [==============================] - 18s 90ms/step - loss: 1.0878 - accuracy: 0.6131 - val_loss: 0.9790 - val_accuracy: 0.6615\n",
      "Epoch 6/30\n",
      "200/200 [==============================] - 20s 98ms/step - loss: 0.9923 - accuracy: 0.6582 - val_loss: 0.9861 - val_accuracy: 0.6483\n",
      "Epoch 7/30\n",
      "200/200 [==============================] - 18s 90ms/step - loss: 0.9260 - accuracy: 0.6739 - val_loss: 0.9364 - val_accuracy: 0.6777\n",
      "Epoch 8/30\n",
      "200/200 [==============================] - 17s 87ms/step - loss: 0.8704 - accuracy: 0.6962 - val_loss: 0.8420 - val_accuracy: 0.7103\n",
      "Epoch 9/30\n",
      "200/200 [==============================] - 18s 90ms/step - loss: 0.8040 - accuracy: 0.7225 - val_loss: 0.8862 - val_accuracy: 0.6952\n",
      "Epoch 10/30\n",
      "200/200 [==============================] - 22s 109ms/step - loss: 0.7839 - accuracy: 0.7235 - val_loss: 0.8156 - val_accuracy: 0.7134\n",
      "Epoch 11/30\n",
      "200/200 [==============================] - 18s 92ms/step - loss: 0.7401 - accuracy: 0.7412 - val_loss: 0.8314 - val_accuracy: 0.7121\n",
      "Epoch 12/30\n",
      "200/200 [==============================] - 16s 79ms/step - loss: 0.6848 - accuracy: 0.7606 - val_loss: 0.8438 - val_accuracy: 0.7021\n",
      "Epoch 13/30\n",
      "200/200 [==============================] - 16s 81ms/step - loss: 0.6745 - accuracy: 0.7613 - val_loss: 0.8406 - val_accuracy: 0.7028\n",
      "Epoch 14/30\n",
      "200/200 [==============================] - 17s 87ms/step - loss: 0.6305 - accuracy: 0.7844 - val_loss: 0.7628 - val_accuracy: 0.7365\n",
      "Epoch 15/30\n",
      "200/200 [==============================] - 18s 91ms/step - loss: 0.6042 - accuracy: 0.7915 - val_loss: 0.8391 - val_accuracy: 0.7159\n",
      "Epoch 16/30\n",
      "200/200 [==============================] - 18s 91ms/step - loss: 0.5692 - accuracy: 0.8008 - val_loss: 0.8242 - val_accuracy: 0.7171\n",
      "Epoch 17/30\n",
      "200/200 [==============================] - 18s 90ms/step - loss: 0.5578 - accuracy: 0.8100 - val_loss: 0.7469 - val_accuracy: 0.7503\n",
      "Epoch 18/30\n",
      "200/200 [==============================] - 17s 86ms/step - loss: 0.5143 - accuracy: 0.8163 - val_loss: 0.7988 - val_accuracy: 0.7297\n",
      "Epoch 19/30\n",
      "200/200 [==============================] - 16s 79ms/step - loss: 0.5099 - accuracy: 0.8183 - val_loss: 0.7183 - val_accuracy: 0.7528\n",
      "Epoch 20/30\n",
      "200/200 [==============================] - 16s 79ms/step - loss: 0.4757 - accuracy: 0.8346 - val_loss: 0.7469 - val_accuracy: 0.7409\n",
      "Epoch 21/30\n",
      "200/200 [==============================] - 18s 89ms/step - loss: 0.4597 - accuracy: 0.8438 - val_loss: 0.7084 - val_accuracy: 0.7547\n",
      "Epoch 22/30\n",
      "200/200 [==============================] - 18s 91ms/step - loss: 0.4397 - accuracy: 0.8516 - val_loss: 0.8349 - val_accuracy: 0.7196\n",
      "Epoch 23/30\n",
      "200/200 [==============================] - 18s 91ms/step - loss: 0.4354 - accuracy: 0.8457 - val_loss: 0.7441 - val_accuracy: 0.7635\n",
      "Epoch 24/30\n",
      "200/200 [==============================] - 17s 87ms/step - loss: 0.4163 - accuracy: 0.8529 - val_loss: 0.7502 - val_accuracy: 0.7578\n",
      "Epoch 25/30\n",
      "200/200 [==============================] - 17s 87ms/step - loss: 0.4144 - accuracy: 0.8512 - val_loss: 0.8828 - val_accuracy: 0.7278\n",
      "Epoch 26/30\n",
      "200/200 [==============================] - 16s 79ms/step - loss: 0.3826 - accuracy: 0.8685 - val_loss: 0.7925 - val_accuracy: 0.7478\n",
      "Epoch 27/30\n",
      "200/200 [==============================] - 16s 79ms/step - loss: 0.3674 - accuracy: 0.8751 - val_loss: 0.7902 - val_accuracy: 0.7347\n",
      "Epoch 28/30\n",
      "200/200 [==============================] - 17s 85ms/step - loss: 0.3518 - accuracy: 0.8781 - val_loss: 0.7397 - val_accuracy: 0.7710\n",
      "Epoch 29/30\n",
      "200/200 [==============================] - 18s 91ms/step - loss: 0.3624 - accuracy: 0.8729 - val_loss: 0.8036 - val_accuracy: 0.7434\n",
      "Epoch 30/30\n",
      "200/200 [==============================] - 18s 90ms/step - loss: 0.3309 - accuracy: 0.8812 - val_loss: 0.7466 - val_accuracy: 0.7666\n",
      "63/63 [==============================] - 1s 15ms/step\n",
      "\n",
      "confusion matrix: \n",
      "[[147   1   2   8  18   7   0   7  17   2]\n",
      " [  0 186   0   2  11   0   0   3   1   0]\n",
      " [  1   0 174   1   0   0   5   2   6   0]\n",
      " [  6   0   2 129   3   9  21   7   6   9]\n",
      " [ 10   8   0   1 182   1   1   1   8   1]\n",
      " [  7   2   0   3   0 151  10   2   1   7]\n",
      " [  0   0   6  15   1  11 150   1   8   5]\n",
      " [ 31   3  14   9   8  15   4  87  16  12]\n",
      " [ 10   0   4   1  11   0   4   2 173   2]\n",
      " [  6   2   9  21   0  12  13  16   1 126]] \n",
      " accuracy:0.7532532532532532\n"
     ]
    },
    {
     "name": "stderr",
     "output_type": "stream",
     "text": [
      "2023/09/14 11:12:50 WARNING mlflow.sklearn: Model was missing function: predict. Not logging python_function flavor!\n",
      "/usr/local/lib/python3.10/dist-packages/_distutils_hack/__init__.py:33: UserWarning: Setuptools is replacing distutils.\n",
      "  warnings.warn(\"Setuptools is replacing distutils.\")\n"
     ]
    }
   ],
   "source": [
    "history, model = train_model(.000327)"
   ]
  },
  {
   "cell_type": "markdown",
   "metadata": {
    "id": "CXqmSMnjFmEm"
   },
   "source": [
    "# store log to drive"
   ]
  },
  {
   "cell_type": "code",
   "execution_count": 16,
   "metadata": {
    "id": "JkvdYAaECquT"
   },
   "outputs": [],
   "source": [
    "!cp -r /content/mlruns/ /content/drive/MyDrive/GTZAN/mlflow"
   ]
  },
  {
   "cell_type": "markdown",
   "metadata": {
    "id": "eX2--LMKF4Mh"
   },
   "source": [
    "# Plot the train, test accuracy loss graph"
   ]
  },
  {
   "cell_type": "code",
   "execution_count": 17,
   "metadata": {
    "colab": {
     "base_uri": "https://localhost:8080/",
     "height": 486
    },
    "id": "_San3eUOv7hI",
    "outputId": "358aa516-b995-4954-ecbf-747a4981ef96"
   },
   "outputs": [
    {
     "data": {
      "image/png": "[encoded data removed]",
      "text/plain": [
       "<Figure size 640x480 with 2 Axes>"
      ]
     },
     "metadata": {},
     "output_type": "display_data"
    }
   ],
   "source": [
    "plot_history(history)"
   ]
  },
  {
   "cell_type": "code",
   "execution_count": 18,
   "metadata": {
    "colab": {
     "base_uri": "https://localhost:8080/"
    },
    "id": "MhZihplbv7eV",
    "outputId": "324b272c-787f-44ce-eb0b-ec0c067cea21"
   },
   "outputs": [
    {
     "name": "stdout",
     "output_type": "stream",
     "text": [
      "63/63 [==============================] - 2s 28ms/step - loss: 0.7706 - accuracy: 0.7533\n",
      "test_accuarcy: 0.7532532811164856\n"
     ]
    }
   ],
   "source": [
    "test_error, test_accuracy = cnn_model.evaluate(X_test, y_test, verbose=1)\n",
    "print(f\"test_accuarcy: {test_accuracy}\")"
   ]
  },
  {
   "cell_type": "markdown",
   "metadata": {
    "id": "SpR5o4hk4X02"
   },
   "source": [
    "# Prediction using the CNN model"
   ]
  },
  {
   "cell_type": "code",
   "execution_count": 19,
   "metadata": {
    "id": "lob6InoWv7bP"
   },
   "outputs": [],
   "source": [
    "def predict(model, X, y):\n",
    "    X = X[np.newaxis, ...]\n",
    "\n",
    "    prediction = model.predict(X)  # X -> (130, 13, 1) requires -> (1, 130, 13 ,1)\n",
    "    prediction_index = np.argmax(prediction, axis=1)\n",
    "    print(f\"Expected index: {y}\\n Predicted index:{prediction_index}\")"
   ]
  },
  {
   "cell_type": "code",
   "execution_count": 20,
   "metadata": {
    "colab": {
     "base_uri": "https://localhost:8080/"
    },
    "id": "BYOu-L8O1htc",
    "outputId": "7dc90e6f-5430-4aa5-dbde-8ccd52c85f8e"
   },
   "outputs": [
    {
     "name": "stdout",
     "output_type": "stream",
     "text": [
      "1/1 [==============================] - 0s 22ms/step\n",
      "Expected index: 4\n",
      " Predicted index:[4]\n",
      "1/1 [==============================] - 0s 22ms/step\n",
      "Expected index: 3\n",
      " Predicted index:[3]\n",
      "1/1 [==============================] - 0s 22ms/step\n",
      "Expected index: 6\n",
      " Predicted index:[6]\n"
     ]
    }
   ],
   "source": [
    "X = X_test[100]\n",
    "y = y_test[100]\n",
    "predict(cnn_model, X, y)\n",
    "X = X_test[196]\n",
    "y = y_test[196]\n",
    "predict(cnn_model, X, y)\n",
    "X = X_test[109]\n",
    "y = y_test[109]\n",
    "predict(cnn_model, X, y)"
   ]
  },
  {
   "cell_type": "code",
   "execution_count": null,
   "metadata": {
    "id": "RZPU2KwR1kpq"
   },
   "outputs": [],
   "source": []
  }
 ],
 "metadata": {
  "accelerator": "TPU",
  "colab": {
   "provenance": []
  },
  "kernelspec": {
   "display_name": "Python 3",
   "name": "python3"
  },
  "language_info": {
   "name": "python"
  }
 },
 "nbformat": 4,
 "nbformat_minor": 0
}
