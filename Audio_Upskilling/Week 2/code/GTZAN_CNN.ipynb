{
 "cells": [
  {
   "cell_type": "markdown",
   "metadata": {
    "id": "OQJG7a5J3jbB"
   },
   "source": [
    "# Importing data"
   ]
  },
  {
   "cell_type": "code",
   "execution_count": null,
   "metadata": {
    "id": "OX2ZjHLhvZ4a"
   },
   "outputs": [],
   "source": [
    "!gdown https://drive.google.com/uc?id=1P12YAYLOg8T7x7beOkHozaPFsBRTFz5w\n",
    "!unzip GTZAN\\ Dataset\\ -\\ Music\\ Genre\\ Classification.zip"
   ]
  },
  {
   "cell_type": "markdown",
   "metadata": {
    "id": "JfFovbNY35SL"
   },
   "source": [
    "# Importing Libraries"
   ]
  },
  {
   "cell_type": "code",
   "execution_count": null,
   "metadata": {
    "id": "gbPUhaCRvqIJ"
   },
   "outputs": [],
   "source": [
    "import json\n",
    "import os\n",
    "\n",
    "import keras\n",
    "import librosa\n",
    "import matplotlib.pyplot as plt\n",
    "import numpy as np\n",
    "from sklearn.model_selection import train_test_split"
   ]
  },
  {
   "cell_type": "markdown",
   "metadata": {
    "id": "L29hTMT04CFL"
   },
   "source": [
    "#### Extract the Feature of audio i.e MFCCs and append the data in the dictionary which contain the type of music, MFCCs and the label for the type of music"
   ]
  },
  {
   "cell_type": "code",
   "execution_count": null,
   "metadata": {
    "id": "63Q1_Fyhvv8Z"
   },
   "outputs": [],
   "source": [
    "SAMPLE_RATE = 22050\n",
    "DURATION = 30  # 30SEC\n",
    "SAMPLES_PER_TRACK = SAMPLE_RATE * DURATION"
   ]
  },
  {
   "cell_type": "code",
   "execution_count": null,
   "metadata": {
    "id": "TeSEB7LzvyWZ"
   },
   "outputs": [],
   "source": [
    "def save_mfcc(dataset_path, json_path, n_mfcc=13, n_fft=2048, hop_length=512, num_segments=5):\n",
    "    data = {\n",
    "        \"mapping\": [],\n",
    "        \"mfcc\": [],\n",
    "        \"labels\": []\n",
    "    }\n",
    "\n",
    "    for i, (dirpath, dirname, filenames) in enumerate(os.walk(dataset_path)):\n",
    "        if dirpath is not dataset_path:\n",
    "            dirpath_components = dirpath.split('/')\n",
    "            semantic_label = dirpath_components[-1]\n",
    "            data[\"mapping\"].append(semantic_label)\n",
    "            print(f\"\\n Processing {semantic_label}\")\n",
    "\n",
    "            num_samples_per_segent = int(SAMPLES_PER_TRACK / num_segments)\n",
    "            expected_num_mfcc_vectos_per_segment = np.ceil((num_samples_per_segent / hop_length))\n",
    "\n",
    "            for f in filenames:\n",
    "                file_path = os.path.join(dirpath, f)\n",
    "                signal, sr = librosa.load(file_path, sr=SAMPLE_RATE)\n",
    "\n",
    "                for s in range(num_segments):\n",
    "                    start_sample = num_samples_per_segent * s\n",
    "                    finish_sample = start_sample + num_samples_per_segent\n",
    "\n",
    "                    mfcc = librosa.feature.mfcc(y=signal[start_sample:finish_sample],\n",
    "                                                sr=sr,\n",
    "                                                n_fft=n_fft,\n",
    "                                                n_mfcc=n_mfcc,\n",
    "                                                hop_length=hop_length\n",
    "\n",
    "                                                )\n",
    "                    mfcc = mfcc.T\n",
    "\n",
    "                    if len(mfcc) == expected_num_mfcc_vectos_per_segment:\n",
    "                        data[\"mfcc\"].append(mfcc.tolist())\n",
    "                        data[\"labels\"].append(i - 1)\n",
    "    return data"
   ]
  },
  {
   "cell_type": "code",
   "execution_count": null,
   "metadata": {
    "colab": {
     "base_uri": "https://localhost:8080/"
    },
    "id": "l3hl2DUAvyTv",
    "outputId": "2267ae52-f177-4a08-a5f6-73aad47b9564"
   },
   "outputs": [
    {
     "name": "stdout",
     "output_type": "stream",
     "text": [
      "\n",
      " Processing classical\n",
      "\n",
      " Processing reggae\n",
      "\n",
      " Processing jazz\n",
      "\n",
      " Processing country\n",
      "\n",
      " Processing disco\n",
      "\n",
      " Processing metal\n",
      "\n",
      " Processing hiphop\n",
      "\n",
      " Processing pop\n",
      "\n",
      " Processing rock\n",
      "\n",
      " Processing blues\n"
     ]
    }
   ],
   "source": [
    "DATASET_PATH = \"/content/Data/genres_original\"\n",
    "JSON_PATH = \"data.json\"\n",
    "data = save_mfcc(DATASET_PATH, JSON_PATH, num_segments=10)"
   ]
  },
  {
   "cell_type": "code",
   "execution_count": null,
   "metadata": {
    "id": "qCGfxcT3vyQv"
   },
   "outputs": [],
   "source": [
    "JSON_PATH = \"data.json\"\n",
    "with open(JSON_PATH, \"w\") as fp:\n",
    "    json.dump(data, fp, indent=4)"
   ]
  },
  {
   "cell_type": "code",
   "execution_count": null,
   "metadata": {
    "id": "kdDsEJddv6sn"
   },
   "outputs": [],
   "source": [
    "def load_data(data_path):\n",
    "    \"\"\"Loads training dataset from json file.\n",
    "\n",
    "        :param data_path (str): Path to json file containing data\n",
    "        :return X (ndarray): Inputs\n",
    "        :return y (ndarray): Targets\n",
    "    \"\"\"\n",
    "\n",
    "    with open(data_path, \"r\") as fp:\n",
    "        data = json.load(fp)\n",
    "\n",
    "    # convert lists to numpy arrays\n",
    "    X = np.array(data[\"mfcc\"])\n",
    "    y = np.array(data[\"labels\"])\n",
    "\n",
    "    print(\"Data succesfully loaded!\")\n",
    "\n",
    "    return X, y"
   ]
  },
  {
   "cell_type": "code",
   "execution_count": null,
   "metadata": {
    "id": "UPozpbvRv7rR"
   },
   "outputs": [],
   "source": [
    "def plot_history(history):\n",
    "    \"\"\"Plots accuracy/loss for training/validation set as a function of the epochs\n",
    "\n",
    "        :param history: Training history of model\n",
    "        :return:\n",
    "    \"\"\"\n",
    "\n",
    "    fig, axs = plt.subplots(2)\n",
    "\n",
    "    # create accuracy sublpot\n",
    "    axs[0].plot(history.history[\"accuracy\"], label=\"train accuracy\")\n",
    "    axs[0].plot(history.history[\"val_accuracy\"], label=\"test accuracy\")\n",
    "    axs[0].set_ylabel(\"Accuracy\")\n",
    "    axs[0].legend(loc=\"lower right\")\n",
    "    axs[0].set_title(\"Accuracy eval\")\n",
    "\n",
    "    # create error sublpot\n",
    "    axs[1].plot(history.history[\"loss\"], label=\"train error\")\n",
    "    axs[1].plot(history.history[\"val_loss\"], label=\"test error\")\n",
    "    axs[1].set_ylabel(\"Error\")\n",
    "    axs[1].set_xlabel(\"Epoch\")\n",
    "    axs[1].legend(loc=\"upper right\")\n",
    "    axs[1].set_title(\"Error eval\")\n",
    "\n",
    "    plt.tight_layout()\n",
    "    plt.show()"
   ]
  },
  {
   "cell_type": "markdown",
   "metadata": {
    "id": "1Fght8Ja4IbW"
   },
   "source": [
    "# Dataset split for train, test, and validation."
   ]
  },
  {
   "cell_type": "code",
   "execution_count": null,
   "metadata": {
    "id": "0YYcxuxPv7op"
   },
   "outputs": [],
   "source": [
    "def prepare_dataset(test_size, validation_size):\n",
    "    # load data\n",
    "    X, y = load_data(\"/content/data.json\")\n",
    "\n",
    "    # create train/test split\n",
    "    X_train, X_test, y_train, y_test = train_test_split(\n",
    "        X,\n",
    "        y,\n",
    "        test_size=test_size,\n",
    "        random_state=42,\n",
    "    )\n",
    "\n",
    "    # create train/validation split\n",
    "\n",
    "    X_train, X_validation, y_train, y_validation = train_test_split(\n",
    "        X_train,\n",
    "        y_train,\n",
    "        test_size=validation_size,\n",
    "        random_state=42,\n",
    "    )\n",
    "\n",
    "    # 3d array\n",
    "    X_train = X_train[..., np.newaxis]\n",
    "    X_validation = X_validation[..., np.newaxis]\n",
    "    X_test = X_test[..., np.newaxis]\n",
    "\n",
    "    return X_train, X_validation, X_test, y_train, y_validation, y_test"
   ]
  },
  {
   "cell_type": "markdown",
   "metadata": {
    "id": "1NJa0-sy4QYP"
   },
   "source": [
    "# Build CNN model"
   ]
  },
  {
   "cell_type": "code",
   "execution_count": null,
   "metadata": {
    "id": "5lD32n8Wv7mO"
   },
   "outputs": [],
   "source": [
    "def build_cnn_model(input_shape):\n",
    "    \"\"\"Generates CNN model\n",
    "\n",
    "    :param input_shape (tuple): Shape of input set\n",
    "    :return model: CNN model\n",
    "    \"\"\"\n",
    "\n",
    "    # build network topology\n",
    "    model = keras.Sequential()\n",
    "\n",
    "    # 1st conv layer\n",
    "    model.add(keras.layers.Conv2D(32, (3, 3), activation='relu', input_shape=input_shape))\n",
    "    model.add(keras.layers.MaxPooling2D((3, 3), strides=(2, 2), padding='same'))\n",
    "    model.add(keras.layers.BatchNormalization())\n",
    "\n",
    "    # 2nd conv layer\n",
    "    model.add(keras.layers.Conv2D(32, (3, 3), activation='relu'))\n",
    "    model.add(keras.layers.MaxPooling2D((3, 3), strides=(2, 2), padding='same'))\n",
    "    model.add(keras.layers.BatchNormalization())\n",
    "\n",
    "    # 3rd conv layer\n",
    "    model.add(keras.layers.Conv2D(32, (2, 2), activation='relu'))\n",
    "    model.add(keras.layers.MaxPooling2D((2, 2), strides=(2, 2), padding='same'))\n",
    "    model.add(keras.layers.BatchNormalization())\n",
    "\n",
    "    # flatten output and feed it into dense layer\n",
    "    model.add(keras.layers.Flatten())\n",
    "    model.add(keras.layers.Dense(64, activation='relu'))\n",
    "    model.add(keras.layers.Dropout(0.3))\n",
    "\n",
    "    # output layer\n",
    "    model.add(keras.layers.Dense(10, activation='softmax'))\n",
    "\n",
    "    return model"
   ]
  },
  {
   "cell_type": "code",
   "execution_count": null,
   "metadata": {
    "colab": {
     "base_uri": "https://localhost:8080/"
    },
    "id": "OjOjv-MNyQ-3",
    "outputId": "d6410554-aec2-4a3d-f9bc-3f93b8a2b150"
   },
   "outputs": [
    {
     "name": "stdout",
     "output_type": "stream",
     "text": [
      "Data succesfully loaded!\n"
     ]
    }
   ],
   "source": [
    "X_train, X_validation, X_test, y_train, y_validation, y_test = prepare_dataset(.25, .2,)"
   ]
  },
  {
   "cell_type": "code",
   "execution_count": null,
   "metadata": {
    "colab": {
     "base_uri": "https://localhost:8080/"
    },
    "id": "oJcI2f99v7jq",
    "outputId": "0bbabb06-f031-4f84-9eda-1a5c8ca2f503"
   },
   "outputs": [
    {
     "name": "stdout",
     "output_type": "stream",
     "text": [
      "Model: \"sequential\"\n",
      "_________________________________________________________________\n",
      " Layer (type)                Output Shape              Param #   \n",
      "=================================================================\n",
      " conv2d (Conv2D)             (None, 128, 11, 32)       320       \n",
      "                                                                 \n",
      " max_pooling2d (MaxPooling2D  (None, 64, 6, 32)        0         \n",
      " )                                                               \n",
      "                                                                 \n",
      " batch_normalization (BatchN  (None, 64, 6, 32)        128       \n",
      " ormalization)                                                   \n",
      "                                                                 \n",
      " conv2d_1 (Conv2D)           (None, 62, 4, 32)         9248      \n",
      "                                                                 \n",
      " max_pooling2d_1 (MaxPooling  (None, 31, 2, 32)        0         \n",
      " 2D)                                                             \n",
      "                                                                 \n",
      " batch_normalization_1 (Batc  (None, 31, 2, 32)        128       \n",
      " hNormalization)                                                 \n",
      "                                                                 \n",
      " conv2d_2 (Conv2D)           (None, 30, 1, 32)         4128      \n",
      "                                                                 \n",
      " max_pooling2d_2 (MaxPooling  (None, 15, 1, 32)        0         \n",
      " 2D)                                                             \n",
      "                                                                 \n",
      " batch_normalization_2 (Batc  (None, 15, 1, 32)        128       \n",
      " hNormalization)                                                 \n",
      "                                                                 \n",
      " flatten (Flatten)           (None, 480)               0         \n",
      "                                                                 \n",
      " dense (Dense)               (None, 64)                30784     \n",
      "                                                                 \n",
      " dropout (Dropout)           (None, 64)                0         \n",
      "                                                                 \n",
      " dense_1 (Dense)             (None, 10)                650       \n",
      "                                                                 \n",
      "=================================================================\n",
      "Total params: 45,514\n",
      "Trainable params: 45,322\n",
      "Non-trainable params: 192\n",
      "_________________________________________________________________\n"
     ]
    }
   ],
   "source": [
    "input_shape = (X_train.shape[1], X_train.shape[2], X_train.shape[3])\n",
    "cnn_model = build_cnn_model(input_shape)\n",
    "cnn_model.summary()"
   ]
  },
  {
   "cell_type": "code",
   "execution_count": null,
   "metadata": {
    "id": "o8hYRqrhwTn6"
   },
   "outputs": [],
   "source": [
    "optimizer = keras.optimizers.Adam(learning_rate=0.0001)\n",
    "cnn_model.compile(\n",
    "    optimizer=optimizer,\n",
    "    loss='sparse_categorical_crossentropy',\n",
    "    metrics=['accuracy']\n",
    ")"
   ]
  },
  {
   "cell_type": "code",
   "execution_count": null,
   "metadata": {
    "colab": {
     "base_uri": "https://localhost:8080/"
    },
    "id": "g4656i-IwWWC",
    "outputId": "73a71189-ba93-4588-ca21-4a4cea54ee32"
   },
   "outputs": [
    {
     "name": "stdout",
     "output_type": "stream",
     "text": [
      "Epoch 1/30\n",
      "188/188 [==============================] - 17s 80ms/step - loss: 2.3260 - accuracy: 0.2419 - val_loss: 1.9016 - val_accuracy: 0.3318\n",
      "Epoch 2/30\n",
      "188/188 [==============================] - 16s 82ms/step - loss: 1.8467 - accuracy: 0.3812 - val_loss: 1.5785 - val_accuracy: 0.4626\n",
      "Epoch 3/30\n",
      "188/188 [==============================] - 16s 87ms/step - loss: 1.6274 - accuracy: 0.4281 - val_loss: 1.4634 - val_accuracy: 0.4960\n",
      "Epoch 4/30\n",
      "188/188 [==============================] - 16s 86ms/step - loss: 1.4865 - accuracy: 0.4767 - val_loss: 1.3997 - val_accuracy: 0.5214\n",
      "Epoch 5/30\n",
      "188/188 [==============================] - 16s 86ms/step - loss: 1.4148 - accuracy: 0.4992 - val_loss: 1.3258 - val_accuracy: 0.5414\n",
      "Epoch 6/30\n",
      "188/188 [==============================] - 16s 87ms/step - loss: 1.3453 - accuracy: 0.5278 - val_loss: 1.2841 - val_accuracy: 0.5601\n",
      "Epoch 7/30\n",
      "188/188 [==============================] - 16s 83ms/step - loss: 1.2951 - accuracy: 0.5340 - val_loss: 1.2572 - val_accuracy: 0.5701\n",
      "Epoch 8/30\n",
      "188/188 [==============================] - 17s 89ms/step - loss: 1.2376 - accuracy: 0.5517 - val_loss: 1.2083 - val_accuracy: 0.5861\n",
      "Epoch 9/30\n",
      "188/188 [==============================] - 16s 83ms/step - loss: 1.1930 - accuracy: 0.5670 - val_loss: 1.2000 - val_accuracy: 0.5854\n",
      "Epoch 10/30\n",
      "188/188 [==============================] - 16s 83ms/step - loss: 1.1625 - accuracy: 0.5802 - val_loss: 1.1517 - val_accuracy: 0.6048\n",
      "Epoch 11/30\n",
      "188/188 [==============================] - 14s 77ms/step - loss: 1.1158 - accuracy: 0.5906 - val_loss: 1.1321 - val_accuracy: 0.6081\n",
      "Epoch 12/30\n",
      "188/188 [==============================] - 14s 77ms/step - loss: 1.1081 - accuracy: 0.5987 - val_loss: 1.1206 - val_accuracy: 0.6035\n",
      "Epoch 13/30\n",
      "188/188 [==============================] - 15s 82ms/step - loss: 1.0618 - accuracy: 0.6189 - val_loss: 1.0934 - val_accuracy: 0.6282\n",
      "Epoch 14/30\n",
      "188/188 [==============================] - 16s 83ms/step - loss: 1.0528 - accuracy: 0.6211 - val_loss: 1.0903 - val_accuracy: 0.6268\n",
      "Epoch 15/30\n",
      "188/188 [==============================] - 23s 124ms/step - loss: 1.0107 - accuracy: 0.6348 - val_loss: 1.0712 - val_accuracy: 0.6362\n",
      "Epoch 16/30\n",
      "188/188 [==============================] - 16s 87ms/step - loss: 0.9868 - accuracy: 0.6468 - val_loss: 1.0667 - val_accuracy: 0.6275\n",
      "Epoch 17/30\n",
      "188/188 [==============================] - 16s 86ms/step - loss: 0.9514 - accuracy: 0.6623 - val_loss: 1.0437 - val_accuracy: 0.6355\n",
      "Epoch 18/30\n",
      "188/188 [==============================] - 16s 86ms/step - loss: 0.9366 - accuracy: 0.6642 - val_loss: 1.0429 - val_accuracy: 0.6422\n",
      "Epoch 19/30\n",
      "188/188 [==============================] - 16s 86ms/step - loss: 0.9365 - accuracy: 0.6567 - val_loss: 0.9932 - val_accuracy: 0.6742\n",
      "Epoch 20/30\n",
      "188/188 [==============================] - 16s 84ms/step - loss: 0.9038 - accuracy: 0.6775 - val_loss: 1.0019 - val_accuracy: 0.6575\n",
      "Epoch 21/30\n",
      "188/188 [==============================] - 15s 78ms/step - loss: 0.8781 - accuracy: 0.6860 - val_loss: 0.9919 - val_accuracy: 0.6569\n",
      "Epoch 22/30\n",
      "188/188 [==============================] - 14s 76ms/step - loss: 0.8488 - accuracy: 0.6997 - val_loss: 0.9792 - val_accuracy: 0.6629\n",
      "Epoch 23/30\n",
      "188/188 [==============================] - 15s 81ms/step - loss: 0.8414 - accuracy: 0.7027 - val_loss: 0.9748 - val_accuracy: 0.6702\n",
      "Epoch 24/30\n",
      "188/188 [==============================] - 16s 85ms/step - loss: 0.8278 - accuracy: 0.7069 - val_loss: 0.9791 - val_accuracy: 0.6736\n",
      "Epoch 25/30\n",
      "188/188 [==============================] - 16s 86ms/step - loss: 0.8153 - accuracy: 0.7052 - val_loss: 0.9663 - val_accuracy: 0.6702\n",
      "Epoch 26/30\n",
      "188/188 [==============================] - 16s 86ms/step - loss: 0.7925 - accuracy: 0.7141 - val_loss: 0.9435 - val_accuracy: 0.6836\n",
      "Epoch 27/30\n",
      "188/188 [==============================] - 16s 87ms/step - loss: 0.7676 - accuracy: 0.7299 - val_loss: 0.9558 - val_accuracy: 0.6756\n",
      "Epoch 28/30\n",
      "188/188 [==============================] - 16s 87ms/step - loss: 0.7603 - accuracy: 0.7239 - val_loss: 0.9463 - val_accuracy: 0.6842\n",
      "Epoch 29/30\n",
      "188/188 [==============================] - 16s 87ms/step - loss: 0.7561 - accuracy: 0.7384 - val_loss: 0.9345 - val_accuracy: 0.6936\n",
      "Epoch 30/30\n",
      "188/188 [==============================] - 16s 87ms/step - loss: 0.7325 - accuracy: 0.7381 - val_loss: 0.9208 - val_accuracy: 0.6949\n"
     ]
    }
   ],
   "source": [
    "history = cnn_model.fit(\n",
    "    X_train,\n",
    "    y_train,\n",
    "    batch_size=32,\n",
    "    validation_data=(X_validation, y_validation),\n",
    "    epochs=30\n",
    ")"
   ]
  },
  {
   "cell_type": "code",
   "execution_count": null,
   "metadata": {
    "colab": {
     "base_uri": "https://localhost:8080/",
     "height": 486
    },
    "id": "_San3eUOv7hI",
    "outputId": "3138627c-d666-40fd-9d6f-babb68994a9e"
   },
   "outputs": [
    {
     "data": {
      "image/png": "[encoded data removed]",
      "text/plain": [
       "<Figure size 640x480 with 2 Axes>"
      ]
     },
     "metadata": {},
     "output_type": "display_data"
    }
   ],
   "source": [
    "plot_history(history)"
   ]
  },
  {
   "cell_type": "code",
   "execution_count": null,
   "metadata": {
    "colab": {
     "base_uri": "https://localhost:8080/"
    },
    "id": "MhZihplbv7eV",
    "outputId": "268ee565-2987-491e-90e8-db6f9e78b4cd"
   },
   "outputs": [
    {
     "name": "stdout",
     "output_type": "stream",
     "text": [
      "79/79 [==============================] - 1s 15ms/step - loss: 0.8127 - accuracy: 0.7221\n",
      "test_accuarcy: 0.7220664620399475\n"
     ]
    }
   ],
   "source": [
    "test_error, test_accuracy = cnn_model.evaluate(X_test, y_test, verbose=1)\n",
    "print(f\"test_accuarcy: {test_accuracy}\")"
   ]
  },
  {
   "cell_type": "markdown",
   "metadata": {
    "id": "SpR5o4hk4X02"
   },
   "source": [
    "# Prediction using the CNN model"
   ]
  },
  {
   "cell_type": "code",
   "execution_count": null,
   "metadata": {
    "id": "lob6InoWv7bP"
   },
   "outputs": [],
   "source": [
    "def predict(model, X, y):\n",
    "    X = X[np.newaxis, ...]\n",
    "\n",
    "    prediction = model.predict(X)  # X -> (130, 13, 1) requires -> (1, 130, 13 ,1)\n",
    "    prediction_index = np.argmax(prediction, axis=1)\n",
    "    print(f\"Expected index: {y}\\n Predicted index:{prediction_index}\")"
   ]
  },
  {
   "cell_type": "code",
   "execution_count": null,
   "metadata": {
    "colab": {
     "base_uri": "https://localhost:8080/"
    },
    "id": "BYOu-L8O1htc",
    "outputId": "8be8fe7c-be85-4653-d88a-20c1015ee86a"
   },
   "outputs": [
    {
     "name": "stdout",
     "output_type": "stream",
     "text": [
      "1/1 [==============================] - 0s 478ms/step\n",
      "Expected index: 7\n",
      " Predicted index:[7]\n"
     ]
    }
   ],
   "source": [
    "X = X_test[101]\n",
    "y = y_test[101]\n",
    "predict(cnn_model, X, y)"
   ]
  },
  {
   "cell_type": "code",
   "execution_count": null,
   "metadata": {
    "id": "RZPU2KwR1kpq"
   },
   "outputs": [],
   "source": []
  }
 ],
 "metadata": {
  "accelerator": "TPU",
  "colab": {
   "provenance": []
  },
  "kernelspec": {
   "display_name": "Python 3",
   "name": "python3"
  },
  "language_info": {
   "name": "python"
  }
 },
 "nbformat": 4,
 "nbformat_minor": 0
}
